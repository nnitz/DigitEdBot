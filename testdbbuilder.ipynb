{
 "cells": [
  {
   "cell_type": "code",
   "execution_count": 1,
   "id": "82e5b504",
   "metadata": {},
   "outputs": [],
   "source": [
    "import streamlit as st\n",
    "import chromadb\n",
    "from langchain.text_splitter import RecursiveCharacterTextSplitter\n",
    "\n",
    "files = [\n",
    "    {\n",
    "        \"title\": \"Principles of Data Science\",\n",
    "        \"source_url\": \"https://openstax.org/books/principles-data-science/pages/1-introduction\",\n",
    "        \"filename\": \"BusinessEthics-OP.txt\"\n",
    "  },\n",
    "  {\n",
    "        \"title\": \"Introduction to Business Ethics\",\n",
    "        \"source_url\": \"https://openstax.org/books/business-ethics/pages/1-introduction\",\n",
    "        \"filename\": \"Principles-of-Data-Science-WEB.txt\"\n",
    "  }\n",
    "]\n",
    "\n"
   ]
  },
  {
   "cell_type": "code",
   "execution_count": 2,
   "id": "55fc7429",
   "metadata": {},
   "outputs": [],
   "source": [
    "# Instantiate a Chroma persistent client\n",
    "client = chromadb.PersistentClient(\"./\")\n",
    "\n",
    "## YOUR SOLUTION HERE ##\n",
    "collection = client.get_or_create_collection(name = \"Learning_Assistant\", \n",
    "                                             metadata = {\"hnsw:space\": \"cosine\"})"
   ]
  },
  {
   "cell_type": "code",
   "execution_count": 3,
   "id": "726c6f03",
   "metadata": {},
   "outputs": [],
   "source": [
    "#Read first file content\n",
    "with open(f\"./{files[0]['filename']}\", \"r\") as file:\n",
    "  content = file.read()\n",
    "# Create a text splitter\n",
    "## YOUR SOLUTION HERE ##\n",
    "text_splitter = RecursiveCharacterTextSplitter(separators = [\"\\n\\n\", \"\\n\", \". \", \"? \", \"! \"], chunk_size = 1500, chunk_overlap = 200)"
   ]
  },
  {
   "cell_type": "code",
   "execution_count": 4,
   "id": "ac7a74ec",
   "metadata": {},
   "outputs": [
    {
     "data": {
      "text/plain": [
       "[Document(metadata={}, page_content='Business Ethics\\n\\nSENIOR CONTRIBUTING AUTHORS\\n\\nSTEPHEN M. BYARS, USC MARSHALL SCHOOL OF BUSINESS\\nKURT STANBERRY, UNIVERSITY OF HOUSTON-DOWNTOWN\\n\\n\\x0cOpenStax\\nRice University\\n6100 Main Street MS-375\\nHouston, Texas 77005\\nTo learn more about OpenStax, visit https://openstax.org.\\nIndividual print copies and bulk orders can be purchased through our website.\\n©2018 Rice University. Textbook content produced by OpenStax is licensed under a Creative Commons\\nAttribution 4.0 International License (CC BY 4.0). Under this license, any user of this textbook or the textbook\\ncontents herein must provide proper attribution as follows:\\n-\\n\\n-\\n\\n-\\n\\n-\\n\\nIf you redistribute this textbook in a digital format (including but not limited to PDF and HTML), then you\\nmust retain on every page the following attribution:\\n“Download for free at https://openstax.org/details/books/business-ethics.”\\nIf you redistribute this textbook in a print format, then you must include on every physical page the\\nfollowing attribution:\\n“Download for free at https://openstax.org/details/books/business-ethics.”\\nIf you redistribute part of this textbook, then you must retain in every digital format page view (including\\nbut not limited to PDF and HTML) and on every physical printed page the following attribution:\\n“Download for free at https://openstax.org/details/books/business-ethics.”\\nIf you use this textbook as a bibliographic reference, please include\\nhttps://openstax.org/details/books/business-ethics in your citation.')]"
      ]
     },
     "execution_count": 4,
     "metadata": {},
     "output_type": "execute_result"
    }
   ],
   "source": [
    "# Split the 'content' into chunks\n",
    "chunks = text_splitter.create_documents([content])\n",
    "\n",
    "# Print the first document\n",
    "chunks[:1]"
   ]
  },
  {
   "cell_type": "code",
   "execution_count": 5,
   "id": "57be1577",
   "metadata": {},
   "outputs": [],
   "source": [
    "#Create empty lists to store each document, metadata, and id\n",
    "documents = []\n",
    "metadatas = []\n",
    "ids = []\n",
    "\n",
    "#Loop through each file in files\n",
    "for file_info in files:\n",
    "    with open(f\"./{file_info['filename']}\", \"r\") as file:\n",
    "        content = file.read()\n",
    "        #Use text_splitter to create documents\n",
    "        chunks = text_splitter.create_documents([content])\n",
    "        #iterate over every chunk\n",
    "        for index, chunk in enumerate(chunks):\n",
    "            #Append to metadata list with \"title\", \"source_url\", and \"index\"\n",
    "            metadatas.append({\n",
    "                \"title\": file_info[\"title\"],\n",
    "                \"source_url\": file_info[\"source_url\"],\n",
    "                \"chunk_idx\": index\n",
    "            })\n",
    "            #Append to ids each index\n",
    "            ids.append(f\"{file_info['filename']}_{index}\")\n",
    "            \n",
    "            #Append to documents each chunk.page_content\n",
    "            documents.append(chunk.page_content)\n",
    "            \n",
    "#Add all documents to the collection\n",
    "collection.add(documents=documents, metadatas=metadatas, ids=ids)\n",
    "\n",
    "#Verify documents were added to collection with a sample query\n",
    "query_text = \"What can you tell me about the value of data for companies?\"\n",
    "results = collection.query(query_texts=[query_text], n_results=3)"
   ]
  }
 ],
 "metadata": {
  "kernelspec": {
   "display_name": ".venv",
   "language": "python",
   "name": "python3"
  },
  "language_info": {
   "codemirror_mode": {
    "name": "ipython",
    "version": 3
   },
   "file_extension": ".py",
   "mimetype": "text/x-python",
   "name": "python",
   "nbconvert_exporter": "python",
   "pygments_lexer": "ipython3",
   "version": "3.13.3"
  }
 },
 "nbformat": 4,
 "nbformat_minor": 5
}
